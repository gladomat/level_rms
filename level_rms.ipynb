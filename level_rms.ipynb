{
 "metadata": {
  "name": ""
 },
 "nbformat": 3,
 "nbformat_minor": 0,
 "worksheets": [
  {
   "cells": [
    {
     "cell_type": "heading",
     "level": 1,
     "metadata": {},
     "source": [
      "level_rms"
     ]
    },
    {
     "cell_type": "markdown",
     "metadata": {},
     "source": [
      "This function is based (pretty much 1-1) on the matlab script written by Daniel McCloy (drmccloy@uw.edu) which he LICENSED UNDER A CREATIVE COMMONS ATTRIBUTION 3.0 LICENSE: http://creativecommons.org/licenses/by/3.0/\n",
      "\n",
      "It normalizes a set of files to all have the same RMS amplitude. Target amplitude is either (1) matched to that of an existing wav file that you specify, or (2) the maximum possible RMS that still avoids clipping.\n",
      "\n",
      "This script uses `scipy.wavefile.read()` which can only read 16-bit wave files."
     ]
    },
    {
     "cell_type": "markdown",
     "metadata": {},
     "source": [
      "Import libraries"
     ]
    },
    {
     "cell_type": "code",
     "collapsed": false,
     "input": [
      "%matplotlib inline\n",
      "from Tkinter import Tk\n",
      "from tkFileDialog import askopenfilenames, askopenfilename, askdirectory\n",
      "import numpy as np\n",
      "from os import listdir, mkdir\n",
      "import numpy as np\n",
      "from os.path import join, isdir, basename\n",
      "from scipy.io import wavfile\n",
      "from matplotlib import pyplot as plt\n",
      "from copy import deepcopy\n",
      "import sys\n",
      "import contextlib"
     ],
     "language": "python",
     "metadata": {},
     "outputs": [],
     "prompt_number": 113
    },
    {
     "cell_type": "markdown",
     "metadata": {},
     "source": [
      "Convert PCM to float based on a script by Matthias Geier. https://github.com/mgeier/python-audio/blob/master/audio-files/utility.py\n",
      "http://nbviewer.jupyter.org/github/mgeier/python-audio/blob/master/audio-files/audio-files-with-wave.ipynb"
     ]
    },
    {
     "cell_type": "code",
     "collapsed": false,
     "input": [
      "def pcm2float(sig, dtype='float64'):\n",
      "    \"\"\"Convert PCM signal to floating point with a range from -1 to 1.\n",
      "    Use dtype='float32' for single precision.\n",
      "    Parameters\n",
      "    ----------\n",
      "    sig : array_like\n",
      "        Input array, must have integral type.\n",
      "    dtype : data type, optional\n",
      "        Desired (floating point) data type.\n",
      "    Returns\n",
      "    -------\n",
      "    numpy.ndarray\n",
      "        Normalized floating point data.\n",
      "    See Also\n",
      "    --------\n",
      "    float2pcm, dtype\n",
      "    \"\"\"\n",
      "    sig = np.asarray(sig)\n",
      "    if sig.dtype.kind not in 'iu':\n",
      "        raise TypeError(\"'sig' must be an array of integers\")\n",
      "    dtype = np.dtype(dtype)\n",
      "    if dtype.kind != 'f':\n",
      "        raise TypeError(\"'dtype' must be a floating point type\")\n",
      "\n",
      "    i = np.iinfo(sig.dtype)\n",
      "    abs_max = 2 ** (i.bits - 1)\n",
      "    offset = i.min + abs_max\n",
      "    return (sig.astype(dtype) - offset) / abs_max\n",
      "\n",
      "\n",
      "def float2pcm(sig, dtype='int16'):\n",
      "    \"\"\"Convert floating point signal with a range from -1 to 1 to PCM.\n",
      "    Any signal values outside the interval [-1.0, 1.0) are clipped.\n",
      "    No dithering is used.\n",
      "    Note that there are different possibilities for scaling floating\n",
      "    point numbers to PCM numbers, this function implements just one of\n",
      "    them.  For an overview of alternatives see\n",
      "    http://blog.bjornroche.com/2009/12/int-float-int-its-jungle-out-there.html\n",
      "    Parameters\n",
      "    ----------\n",
      "    sig : array_like\n",
      "        Input array, must have floating point type.\n",
      "    dtype : data type, optional\n",
      "        Desired (integer) data type.\n",
      "    Returns\n",
      "    -------\n",
      "    numpy.ndarray\n",
      "        Integer data, scaled and clipped to the range of the given\n",
      "        `dtype`.\n",
      "    See Also\n",
      "    --------\n",
      "    pcm2float, dtype\n",
      "    \"\"\"\n",
      "    sig = np.asarray(sig)\n",
      "    if sig.dtype.kind != 'f':\n",
      "        raise TypeError(\"'sig' must be a float array\")\n",
      "    dtype = np.dtype(dtype)\n",
      "    if dtype.kind not in 'iu':\n",
      "        raise TypeError(\"'dtype' must be an integer type\")\n",
      "\n",
      "    i = np.iinfo(dtype)\n",
      "    abs_max = 2 ** (i.bits - 1)\n",
      "    offset = i.min + abs_max\n",
      "    return (sig * abs_max + offset).clip(i.min, i.max).astype(dtype)"
     ],
     "language": "python",
     "metadata": {},
     "outputs": [],
     "prompt_number": 115
    },
    {
     "cell_type": "markdown",
     "metadata": {},
     "source": [
      "Load files"
     ]
    },
    {
     "cell_type": "code",
     "collapsed": false,
     "input": [
      "Tk().withdraw() # we don't want a full GUI, so keep the root window from appearing\n",
      "soundFiles = askopenfilenames(title='Choose *.wav files to normalize.',\n",
      "                            filetypes = ((\"Wav files\", \"*.wav\"),\n",
      "                            (\"All files\", \"*.*\"))) # show an \"Open\" dialog box and return the path to the selected file\n",
      "print \"\\nA total of\", len(soundFiles), \"file(s) were loaded.\\n\""
     ],
     "language": "python",
     "metadata": {},
     "outputs": [
      {
       "output_type": "stream",
       "stream": "stdout",
       "text": [
        "\n",
        "A total of 4 file(s) were loaded.\n",
        "\n",
        "/SCR/Glad/Projects/Oxyvoice/straight/stims_processed_cosineramped/cl0GPR.wav\n"
       ]
      }
     ],
     "prompt_number": 116
    },
    {
     "cell_type": "markdown",
     "metadata": {},
     "source": [
      "Read in WAV data and calculate RMS and clipping-safe scale factors"
     ]
    },
    {
     "cell_type": "code",
     "collapsed": false,
     "input": [
      "print 'Reading WAV files...\\n'\n",
      "wavData = []\n",
      "rmsVec = []\n",
      "maxAmp = []\n",
      "for iSound in soundFiles:\n",
      "    fs1, tmp = wavfile.read(iSound)  \n",
      "    # Need to convert integer data type to float in range -1 to 1.\n",
      "    tmp = pcm2float(tmp, 'float32')\n",
      "    wavData.append(tmp)\n",
      "    rmsVec.append(np.sqrt(np.sum(tmp**2)/len(tmp)))\n",
      "    maxAmp.append(np.max(np.abs(tmp)))\n",
      "    #print np.max(tmp)\n",
      "    \n",
      "# Calculate maximum factor by which each file can be scaled without inducing clipping.\n",
      "maxScale = 0.999 / np.array(maxAmp)\n",
      "# Calculate maximum possible RMS level for each file without inducing clipping.\n",
      "maxRMS = maxScale * np.array(rmsVec)"
     ],
     "language": "python",
     "metadata": {},
     "outputs": [
      {
       "output_type": "stream",
       "stream": "stdout",
       "text": [
        "Reading WAV files...\n",
        "\n",
        "Max RMS"
       ]
      },
      {
       "output_type": "stream",
       "stream": "stdout",
       "text": [
        " [ 0.2020007   0.2018945   0.20310574  0.20304837] [0.19815488892997307, 0.19805071068312383, 0.19923889014027535, 0.19918261537223217]\n"
       ]
      }
     ],
     "prompt_number": 117
    },
    {
     "cell_type": "markdown",
     "metadata": {},
     "source": [
      "Ask whether we're trying to match a target file or not."
     ]
    },
    {
     "cell_type": "code",
     "collapsed": false,
     "input": [
      "rmsMode = raw_input('\\nEnter \"1\" to match RMS of another WAV file (you will be prompted for that file),\\\n",
      "                    \\nor enter \"2\" to RMS level based only on your stimuli (maximize RMS but avoid clipping) >> ')"
     ],
     "language": "python",
     "metadata": {},
     "outputs": [
      {
       "name": "stdout",
       "output_type": "stream",
       "stream": "stdout",
       "text": [
        "\n",
        "Enter \"1\" to match RMS of another WAV file (you will be prompted for that file),                    \n",
        "or enter \"2\" to RMS level based only on your stimuli (maximize RMS but avoid clipping) >> 1\n"
       ]
      },
      {
       "output_type": "stream",
       "stream": "stdout",
       "text": [
        "True False\n"
       ]
      }
     ],
     "prompt_number": 127
    },
    {
     "cell_type": "markdown",
     "metadata": {},
     "source": [
      "Now go through the cases."
     ]
    },
    {
     "cell_type": "code",
     "collapsed": false,
     "input": [
      "if rmsMode is '1':\n",
      "    # Load target WAV file that has a desired target RMS amplitude already\n",
      "    print 'Select target WAV file that already has desired RMS level\\n'\n",
      "    Tk().withdraw() # we don't want a full GUI, so keep the root window from appearing\n",
      "    targetFile = askopenfilename(title='Choose target *.wav file to match RMS to.',\n",
      "                            filetypes = ((\"Wav files\", \"*.wav\"),\n",
      "                            (\"All files\", \"*.*\"))) # show an \"Open\" dialog box and return the path to the selected file\n",
      "    # Read target and calculate RMS.\n",
      "    fs2, targetWAV = wavfile.read(targetFile)\n",
      "    targetWAV = pcm2float(targetWAV, 'float32');\n",
      "    targetRMS = np.sqrt(np.sum(targetWAV**2)/len(targetWAV))\n",
      "    \n",
      "    if targetRMS > np.min(maxRMS):\n",
      "        # Clipping will occur. Find number of files that will clip.\n",
      "        clipVec = maxRMS < targetRMS\n",
      "        clipCount = sum(clipVec)\n",
      "        allowClip = raw_input('WARNING: using this RMS target will cause clipping in' + str(clipCount) \\\n",
      "                              + 'of your files. Continue? [y/n] >> ')\n",
      "        if allowClip == 'n':\n",
      "            # User doesn't want clipping.\n",
      "            preventClip = raw_input('Continue leveling to the max RMS value that still avoids clipping? [y/n] >> ')\n",
      "            if preventClip == 'n':\n",
      "                # The user gives up.\n",
      "                sys.exit(\"\\nCancelling rmsManager: no files were RMS leveled.\\n\")\n",
      "            else:\n",
      "                # The user RMS levels anyway, ignoring the target file\n",
      "                print \"OK, continuing, but leveling to the max value that prevents clipping.\"\n",
      "                targetRMS = np.min(maxRMS)\n",
      "        else:\n",
      "            # The user continues despite clipping, and \n",
      "            # instead write out a list of the files that got clipped.\n",
      "            print \"OK, continuing, and writing a list of clipped files to the script folder.\\n\"\n",
      "            import csv\n",
      "            ofile = open('listOfClippedFiles.csv', \"wb\")\n",
      "            for idx, iClip in enumerate(clipCount):\n",
      "                if iClip:\n",
      "                    # Write out the list of clipped files.\n",
      "                    writer = csv.writer(ofile, delimiter='\t', quotechar='\"', quoting=csv.QUOTE_ALL)\n",
      "                    writer.writerow(soundFiles[idx])\n",
      "            ofile.close()\n",
      "elif rmsMode is not '2':\n",
      "   # The user didn't pick a viable option.\n",
      "   sys.exit(\"\\nYou did not push either 1 or 2\\n\")\n",
      "else:\n",
      "    # rmsMode is \"2\", meaning there is no target file. Thus we calculate the target RMS as the lowest \n",
      "    # of the maximum RMS levels (i.e., the only one that is safe for all files).\n",
      "    targetRMS = min(maxRMS);"
     ],
     "language": "python",
     "metadata": {},
     "outputs": [
      {
       "output_type": "stream",
       "stream": "stdout",
       "text": [
        "1\n",
        "Select target WAV file that already has desired RMS level\n",
        "\n",
        "0.0210003720593"
       ]
      },
      {
       "output_type": "stream",
       "stream": "stdout",
       "text": [
        " 0.201894500029 32785 14.4587 0.164093\n"
       ]
      }
     ],
     "prompt_number": 128
    },
    {
     "cell_type": "markdown",
     "metadata": {},
     "source": [
      "Specify output folder."
     ]
    },
    {
     "cell_type": "code",
     "collapsed": false,
     "input": [
      "print '\\nSelect output folder for normalized files:\\n'\n",
      "outputFolder = askdirectory(title='Select output folder for normalized files')\n",
      "print outputFolder"
     ],
     "language": "python",
     "metadata": {},
     "outputs": [
      {
       "output_type": "stream",
       "stream": "stdout",
       "text": [
        "\n",
        "Select output folder for normalized files:\n",
        "\n",
        "/SCR/Glad/Projects/Oxyvoice/straight/stims_testing"
       ]
      },
      {
       "output_type": "stream",
       "stream": "stdout",
       "text": [
        "\n"
       ]
      }
     ],
     "prompt_number": 134
    },
    {
     "cell_type": "markdown",
     "metadata": {},
     "source": [
      "Rescale the files and write them out."
     ]
    },
    {
     "cell_type": "code",
     "collapsed": false,
     "input": [
      "for idx, iSound in enumerate(soundFiles):\n",
      "    temp = wavData[idx] * targetRMS / rmsVec[idx]  # Rescaling\n",
      "    temp = float2pcm(temp)  # Convert back to PCM 16-bit integer.\n",
      "    outputFile = join(outputFolder, basename(iSound))\n",
      "    wavfile.write(outputFile, fs1, np.asarray(temp, dtype=np.int16))"
     ],
     "language": "python",
     "metadata": {},
     "outputs": [],
     "prompt_number": 130
    },
    {
     "cell_type": "markdown",
     "metadata": {},
     "source": [
      "Write success message."
     ]
    },
    {
     "cell_type": "code",
     "collapsed": false,
     "input": [
      "if not 'clipList' in locals():\n",
      "    clipList = []\n",
      "print \"Done!\", len(soundFiles), \"files were normalized,\", len(clipList), \"of them were clipped.\\n\"    "
     ],
     "language": "python",
     "metadata": {},
     "outputs": [
      {
       "output_type": "stream",
       "stream": "stdout",
       "text": [
        "Done! 4 files were normalized, 0 of them were clipped.\n",
        "\n"
       ]
      }
     ],
     "prompt_number": 133
    }
   ],
   "metadata": {}
  }
 ]
}