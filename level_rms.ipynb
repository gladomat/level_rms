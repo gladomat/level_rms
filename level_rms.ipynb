{
 "metadata": {
  "name": ""
 },
 "nbformat": 3,
 "nbformat_minor": 0,
 "worksheets": [
  {
   "cells": [
    {
     "cell_type": "heading",
     "level": 1,
     "metadata": {},
     "source": [
      "level_rms"
     ]
    },
    {
     "cell_type": "markdown",
     "metadata": {},
     "source": [
      "This function is based (pretty much 1-1) on the matlab script written by Daniel McCloy (drmccloy@uw.edu) which he LICENSED UNDER A CREATIVE COMMONS ATTRIBUTION 3.0 LICENSE: http://creativecommons.org/licenses/by/3.0/\n",
      "\n",
      "It normalizes a set of files to all have the same RMS amplitude. Target amplitude is either (1) matched to that of an existing wav file that you specify, or (2) the maximum possible RMS that still avoids clipping."
     ]
    },
    {
     "cell_type": "markdown",
     "metadata": {},
     "source": [
      "Import libraries"
     ]
    },
    {
     "cell_type": "code",
     "collapsed": false,
     "input": [
      "from Tkinter import Tk\n",
      "from tkFileDialog import askopenfilenames, askopenfilename, askdirectory\n",
      "import numpy as np\n",
      "from os import listdir, mkdir\n",
      "import numpy as np\n",
      "from os.path import join, isdir, basename\n",
      "from scipy.io import wavfile\n",
      "from matplotlib import pyplot as plt\n",
      "from copy import deepcopy\n",
      "import sys"
     ],
     "language": "python",
     "metadata": {},
     "outputs": [],
     "prompt_number": 52
    },
    {
     "cell_type": "markdown",
     "metadata": {},
     "source": [
      "Load files"
     ]
    },
    {
     "cell_type": "code",
     "collapsed": false,
     "input": [
      "Tk().withdraw() # we don't want a full GUI, so keep the root window from appearing\n",
      "soundFiles = askopenfilenames(title='Choose *.wav files to normalize.',\n",
      "                            filetypes = ((\"Wav files\", \"*.wav\"),\n",
      "                            (\"All files\", \"*.*\"))) # show an \"Open\" dialog box and return the path to the selected file\n",
      "print \"\\nA total of\", len(soundFiles), \"file(s) were loaded.\\n\"\n",
      "print soundFiles[1]"
     ],
     "language": "python",
     "metadata": {},
     "outputs": [
      {
       "output_type": "stream",
       "stream": "stdout",
       "text": [
        "\n",
        "A total of 4 file(s) were loaded.\n",
        "\n",
        "/SCR/Glad/Projects/Oxyvoice/straight/stims_112Hz/AltoSax.Vib.pp.C5_001_GPR112Hz_VTLfactor1.wav\n"
       ]
      }
     ],
     "prompt_number": 43
    },
    {
     "cell_type": "markdown",
     "metadata": {},
     "source": [
      "Read in WAV data and calculate RMS and clipping-safe scale factors"
     ]
    },
    {
     "cell_type": "code",
     "collapsed": false,
     "input": [
      "print 'Reading WAV files...\\n'\n",
      "wavData = []\n",
      "rmsVec = []\n",
      "maxAmp = []\n",
      "for iSound in soundFiles:\n",
      "    fs1, tmp = wavfile.read(iSound)\n",
      "    np.asarray(tmp, dtype=np.int16)\n",
      "    wavData.append(tmp)\n",
      "    rmsVec.append(np.sqrt(np.sum(tmp**2)/len(tmp)))\n",
      "    maxAmp.append(np.max(np.abs(tmp)))\n",
      "    print np.max(tmp)\n",
      "    \n",
      "# Calculate maximum factor by which each file can be scaled without inducing clipping.\n",
      "maxScale = 0.999 / np.array(maxAmp)\n",
      "# Calculate maximum possible RMS level for each file without inducing clipping.\n",
      "maxRMS = maxScale * np.array(rmsVec)"
     ],
     "language": "python",
     "metadata": {},
     "outputs": [
      {
       "output_type": "stream",
       "stream": "stdout",
       "text": [
        "Reading WAV files...\n",
        "\n",
        "32112\n",
        "32112\n",
        "32112\n",
        "32112\n"
       ]
      }
     ],
     "prompt_number": 77
    },
    {
     "cell_type": "markdown",
     "metadata": {},
     "source": [
      "Ask whether we're trying to match a target file or not."
     ]
    },
    {
     "cell_type": "code",
     "collapsed": false,
     "input": [
      "rmsMode = raw_input('\\nEnter \"1\" to match RMS of another WAV file (you will be prompted for that file),\\\n",
      "                    \\nor enter \"2\" to RMS level based only on your stimuli (maximize RMS but avoid clipping) >> ')\n",
      "print rmsMode"
     ],
     "language": "python",
     "metadata": {},
     "outputs": [
      {
       "name": "stdout",
       "output_type": "stream",
       "stream": "stdout",
       "text": [
        "\n",
        "Enter \"1\" to match RMS of another WAV file (you will be prompted for that file),                    \n",
        "or enter \"2\" to RMS level based only on your stimuli (maximize RMS but avoid clipping) >> 1\n"
       ]
      },
      {
       "output_type": "stream",
       "stream": "stdout",
       "text": [
        "1\n"
       ]
      }
     ],
     "prompt_number": 60
    },
    {
     "cell_type": "markdown",
     "metadata": {},
     "source": [
      "Now go through the cases."
     ]
    },
    {
     "cell_type": "code",
     "collapsed": false,
     "input": [
      "print rmsMode\n",
      "if 1:\n",
      "    # Load target WAV file that has a desired target RMS amplitude already\n",
      "    print 'Select target WAV file that already has desired RMS level\\n'\n",
      "    Tk().withdraw() # we don't want a full GUI, so keep the root window from appearing\n",
      "    targetFile = askopenfilename(title='Choose target *.wav file to match RMS to.',\n",
      "                            filetypes = ((\"Wav files\", \"*.wav\"),\n",
      "                            (\"All files\", \"*.*\"))) # show an \"Open\" dialog box and return the path to the selected file\n",
      "    # Read target and calculate RMS.\n",
      "    fs2, targetWAV = wavfile.read(targetFile)\n",
      "    targetRMS = np.sqrt(np.sum(targetWAV**2)/len(targetWAV))\n",
      "    print targetRMS, np.min(maxRMS), len(targetWAV), np.sum(pow(targetWAV,2)), max(targetWAV)\n",
      "    \n",
      "    if targetRMS > np.min(maxRMS):\n",
      "        # Clipping will occur. Find number of files that will clip.\n",
      "        clipVec = maxRMS < targetRMS\n",
      "        clipCount = sum(clipVec)\n",
      "        allowClip = raw_input('WARNING: using this RMS target will cause clipping in' + str(clipCount) \\\n",
      "                              + 'of your files. Continue? [y/n] >> ')\n",
      "        if allowClip == \"n\":\n",
      "            # User doesn't want clipping.\n",
      "            preventClip = raw_input('Continue leveling to the max RMS value that still avoids clipping? [y/n] >> ')\n",
      "            if preventClip == \"n\":\n",
      "                # The user gives up.\n",
      "                sys.exit(\"\\nCancelling rmsManager: no files were RMS leveled.\\n\")\n",
      "            else:\n",
      "                # The user RMS levels anyway, ignoring the target file\n",
      "                print \"OK, continuing, but leveling to the max value that prevents clipping.\"\n",
      "                targetRMS = np.min(maxRMS)\n",
      "        else:\n",
      "            # The user continues despite clipping, so we temporarily turn off the clipping warning and \n",
      "            # instead write out a list of the files that got clipped.\n",
      "            print \"OK, continuing, and writing a list of clipped files to the script folder.\\n\"\n",
      "            import csv\n",
      "            ofile = open('listOfClippedFiles.csv', \"wb\")\n",
      "            for idx, iClip in enumerate(clipCount):\n",
      "                if iClip:\n",
      "                    # Write out the list of clipped files.\n",
      "                    writer = csv.writer(ofile, delimiter='\t', quotechar='\"', quoting=csv.QUOTE_ALL)\n",
      "                    writer.writerow(soundFiles[idx])\n",
      "            ofile.close()\n",
      "    elif rmsMode != 2:\n",
      "        # The user didn't pick a viable option.\n",
      "        sys.exit(\"\\nYou did not push either 1 or 2\\n\")\n",
      "else:\n",
      "    # rmsMode is \"2\", meaning there is no target file. Thus we calculate the target RMS as the lowest \n",
      "    # of the maximum RMS levels (i.e., the only one that is safe for all files).\n",
      "    targetRMS = min(maxRMS);"
     ],
     "language": "python",
     "metadata": {},
     "outputs": [
      {
       "output_type": "stream",
       "stream": "stdout",
       "text": [
        "1\n",
        "Select target WAV file that already has desired RMS level\n",
        "\n",
        "79.9812478022"
       ]
      },
      {
       "output_type": "stream",
       "stream": "stdout",
       "text": [
        " 0.000295134097768 32785 209733003 5377\n"
       ]
      },
      {
       "ename": "KeyboardInterrupt",
       "evalue": "",
       "output_type": "pyerr",
       "traceback": [
        "\u001b[0;31m---------------------------------------------------------------------------\u001b[0m\n\u001b[0;31mKeyboardInterrupt\u001b[0m                         Traceback (most recent call last)",
        "\u001b[0;32m<ipython-input-74-4ea5c4723f30>\u001b[0m in \u001b[0;36m<module>\u001b[0;34m()\u001b[0m\n\u001b[1;32m     16\u001b[0m         \u001b[0mclipVec\u001b[0m \u001b[0;34m=\u001b[0m \u001b[0mmaxRMS\u001b[0m \u001b[0;34m<\u001b[0m \u001b[0mtargetRMS\u001b[0m\u001b[0;34m\u001b[0m\u001b[0m\n\u001b[1;32m     17\u001b[0m         \u001b[0mclipCount\u001b[0m \u001b[0;34m=\u001b[0m \u001b[0msum\u001b[0m\u001b[0;34m(\u001b[0m\u001b[0mclipVec\u001b[0m\u001b[0;34m)\u001b[0m\u001b[0;34m\u001b[0m\u001b[0m\n\u001b[0;32m---> 18\u001b[0;31m         \u001b[0mallowClip\u001b[0m \u001b[0;34m=\u001b[0m \u001b[0mraw_input\u001b[0m\u001b[0;34m(\u001b[0m\u001b[0;34m'WARNING: using this RMS target will cause clipping in'\u001b[0m \u001b[0;34m+\u001b[0m \u001b[0mstr\u001b[0m\u001b[0;34m(\u001b[0m\u001b[0mclipCount\u001b[0m\u001b[0;34m)\u001b[0m                               \u001b[0;34m+\u001b[0m \u001b[0;34m'of your files. Continue? [y/n] >> '\u001b[0m\u001b[0;34m)\u001b[0m\u001b[0;34m\u001b[0m\u001b[0m\n\u001b[0m\u001b[1;32m     19\u001b[0m         \u001b[0;32mif\u001b[0m \u001b[0mallowClip\u001b[0m \u001b[0;34m==\u001b[0m \u001b[0;34m\"n\"\u001b[0m\u001b[0;34m:\u001b[0m\u001b[0;34m\u001b[0m\u001b[0m\n\u001b[1;32m     20\u001b[0m             \u001b[0;31m# User doesn't want clipping.\u001b[0m\u001b[0;34m\u001b[0m\u001b[0;34m\u001b[0m\u001b[0m\n",
        "\u001b[0;32m/usr/lib/python2.7/dist-packages/IPython1X/IPython/kernel/zmq/ipkernel.pyc\u001b[0m in \u001b[0;36m<lambda>\u001b[0;34m(prompt)\u001b[0m\n\u001b[1;32m    353\u001b[0m         \u001b[0;31m# raw_input in the user namespace.\u001b[0m\u001b[0;34m\u001b[0m\u001b[0;34m\u001b[0m\u001b[0m\n\u001b[1;32m    354\u001b[0m         \u001b[0;32mif\u001b[0m \u001b[0mcontent\u001b[0m\u001b[0;34m.\u001b[0m\u001b[0mget\u001b[0m\u001b[0;34m(\u001b[0m\u001b[0;34m'allow_stdin'\u001b[0m\u001b[0;34m,\u001b[0m \u001b[0mFalse\u001b[0m\u001b[0;34m)\u001b[0m\u001b[0;34m:\u001b[0m\u001b[0;34m\u001b[0m\u001b[0m\n\u001b[0;32m--> 355\u001b[0;31m             \u001b[0mraw_input\u001b[0m \u001b[0;34m=\u001b[0m \u001b[0;32mlambda\u001b[0m \u001b[0mprompt\u001b[0m\u001b[0;34m=\u001b[0m\u001b[0;34m''\u001b[0m\u001b[0;34m:\u001b[0m \u001b[0mself\u001b[0m\u001b[0;34m.\u001b[0m\u001b[0m_raw_input\u001b[0m\u001b[0;34m(\u001b[0m\u001b[0mprompt\u001b[0m\u001b[0;34m,\u001b[0m \u001b[0mident\u001b[0m\u001b[0;34m,\u001b[0m \u001b[0mparent\u001b[0m\u001b[0;34m)\u001b[0m\u001b[0;34m\u001b[0m\u001b[0m\n\u001b[0m\u001b[1;32m    356\u001b[0m             \u001b[0minput\u001b[0m \u001b[0;34m=\u001b[0m \u001b[0;32mlambda\u001b[0m \u001b[0mprompt\u001b[0m\u001b[0;34m=\u001b[0m\u001b[0;34m''\u001b[0m\u001b[0;34m:\u001b[0m \u001b[0meval\u001b[0m\u001b[0;34m(\u001b[0m\u001b[0mraw_input\u001b[0m\u001b[0;34m(\u001b[0m\u001b[0mprompt\u001b[0m\u001b[0;34m)\u001b[0m\u001b[0;34m)\u001b[0m\u001b[0;34m\u001b[0m\u001b[0m\n\u001b[1;32m    357\u001b[0m         \u001b[0;32melse\u001b[0m\u001b[0;34m:\u001b[0m\u001b[0;34m\u001b[0m\u001b[0m\n",
        "\u001b[0;32m/usr/lib/python2.7/dist-packages/IPython1X/IPython/kernel/zmq/ipkernel.pyc\u001b[0m in \u001b[0;36m_raw_input\u001b[0;34m(self, prompt, ident, parent)\u001b[0m\n\u001b[1;32m    774\u001b[0m             \u001b[0;32mexcept\u001b[0m \u001b[0mKeyboardInterrupt\u001b[0m\u001b[0;34m:\u001b[0m\u001b[0;34m\u001b[0m\u001b[0m\n\u001b[1;32m    775\u001b[0m                 \u001b[0;31m# re-raise KeyboardInterrupt, to truncate traceback\u001b[0m\u001b[0;34m\u001b[0m\u001b[0;34m\u001b[0m\u001b[0m\n\u001b[0;32m--> 776\u001b[0;31m                 \u001b[0;32mraise\u001b[0m \u001b[0mKeyboardInterrupt\u001b[0m\u001b[0;34m\u001b[0m\u001b[0m\n\u001b[0m\u001b[1;32m    777\u001b[0m             \u001b[0;32melse\u001b[0m\u001b[0;34m:\u001b[0m\u001b[0;34m\u001b[0m\u001b[0m\n\u001b[1;32m    778\u001b[0m                 \u001b[0;32mbreak\u001b[0m\u001b[0;34m\u001b[0m\u001b[0m\n",
        "\u001b[0;31mKeyboardInterrupt\u001b[0m: "
       ]
      }
     ],
     "prompt_number": 74
    },
    {
     "cell_type": "markdown",
     "metadata": {},
     "source": [
      "Specify output folder."
     ]
    },
    {
     "cell_type": "code",
     "collapsed": false,
     "input": [
      "print '\\nSelect output folder for normalized files:\\n'\n",
      "outputFolder = askdirectory(title='Select output folder for normalized files')"
     ],
     "language": "python",
     "metadata": {},
     "outputs": [
      {
       "output_type": "stream",
       "stream": "stdout",
       "text": [
        "\n",
        "Select output folder for normalized files:\n",
        "\n"
       ]
      }
     ],
     "prompt_number": 49
    },
    {
     "cell_type": "markdown",
     "metadata": {},
     "source": [
      "Rescale the files and write them out."
     ]
    },
    {
     "cell_type": "code",
     "collapsed": false,
     "input": [
      "for idx, iSound in enumerate(soundFiles):\n",
      "    temp = wavData[idx] * targetRMS / rmsVec[idx]\n",
      "    outputFile = join(outputFolder, basename(iSound))\n",
      "    wavfile.write(outputFile, fs1, np.asarray(temp, dtype=np.int16))"
     ],
     "language": "python",
     "metadata": {},
     "outputs": []
    },
    {
     "cell_type": "markdown",
     "metadata": {},
     "source": [
      "Write success message."
     ]
    },
    {
     "cell_type": "code",
     "collapsed": false,
     "input": [
      "if not exist(clipList):\n",
      "    clipList = []\n",
      "print \"Done!\", len(soundFiles), \"files were normalized,\", len(clipList), \"of them were clipped.\\n\"    "
     ],
     "language": "python",
     "metadata": {},
     "outputs": []
    }
   ],
   "metadata": {}
  }
 ]
}